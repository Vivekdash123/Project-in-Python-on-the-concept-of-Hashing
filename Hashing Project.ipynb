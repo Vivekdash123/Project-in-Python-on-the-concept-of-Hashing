{
 "cells": [
  {
   "cell_type": "code",
   "execution_count": 1,
   "id": "933a42da-0e25-4442-b8ba-ee0d906532a9",
   "metadata": {},
   "outputs": [
    {
     "name": "stdout",
     "output_type": "stream",
     "text": [
      "User 'Alice' added with hashed password.\n",
      "User 'Bob' added with hashed password.\n",
      "Password for user 'Alice' is correct.\n",
      "Incorrect password for user 'Alice'.\n",
      "User 'Charlie' not found.\n"
     ]
    }
   ],
   "source": [
    "import hashlib\n",
    "\n",
    "# Function to hash a password using SHA-256\n",
    "def hash_password(password):\n",
    "    # Create a new sha256 hash object\n",
    "    sha256 = hashlib.sha256()\n",
    "    # Update the hash object with the password encoded to bytes\n",
    "    sha256.update(password.encode('utf-8'))\n",
    "    # Return the hexadecimal representation of the hashed password\n",
    "    return sha256.hexdigest()\n",
    "\n",
    "# Store hashed passwords in a dictionary (simulating a user database)\n",
    "user_database = {}\n",
    "\n",
    "# Function to add a user with a password\n",
    "def add_user(username, password):\n",
    "    hashed_password = hash_password(password)\n",
    "    user_database[username] = hashed_password\n",
    "    print(f\"User '{username}' added with hashed password.\")\n",
    "\n",
    "# Function to verify a user's password\n",
    "def verify_user(username, password):\n",
    "    if username in user_database:\n",
    "        hashed_password = hash_password(password)\n",
    "        if user_database[username] == hashed_password:\n",
    "            print(f\"Password for user '{username}' is correct.\")\n",
    "        else:\n",
    "            print(f\"Incorrect password for user '{username}'.\")\n",
    "    else:\n",
    "        print(f\"User '{username}' not found.\")\n",
    "\n",
    "# Example of adding and verifying users\n",
    "add_user('Alice', 'my_secure_password')\n",
    "add_user('Bob', 'another_password')\n",
    "\n",
    "verify_user('Alice', 'my_secure_password')  # Correct password\n",
    "verify_user('Alice', 'wrong_password')      # Incorrect password\n",
    "verify_user('Charlie', 'some_password')     # User not found"
   ]
  }
 ],
 "metadata": {
  "kernelspec": {
   "display_name": "Python 3 (ipykernel)",
   "language": "python",
   "name": "python3"
  },
  "language_info": {
   "codemirror_mode": {
    "name": "ipython",
    "version": 3
   },
   "file_extension": ".py",
   "mimetype": "text/x-python",
   "name": "python",
   "nbconvert_exporter": "python",
   "pygments_lexer": "ipython3",
   "version": "3.12.3"
  }
 },
 "nbformat": 4,
 "nbformat_minor": 5
}
